{
 "cells": [
  {
   "cell_type": "code",
   "execution_count": 35,
   "metadata": {},
   "outputs": [],
   "source": [
    "import numpy as np\n",
    "import pandas as pd\n",
    "import matplotlib.pyplot as plt\n",
    "import seaborn as sns\n",
    "from sklearn.linear_model import LogisticRegression\n",
    "from sklearn.model_selection import train_test_split\n",
    "from sklearn.metrics import f1_score\n",
    "\n",
    "df = pd.read_csv('~/mvpfile.csv')"
   ]
  },
  {
   "cell_type": "code",
   "execution_count": 36,
   "metadata": {},
   "outputs": [],
   "source": [
    "features = df[['AssessTot','BldgArea', 'BoroCode', 'BsmtCode', 'ComArea',\n",
    "       'FactryArea', 'GarageArea', 'LandUse', 'LotArea', 'LotType',\n",
    "       'NumFloors', 'OfficeArea', 'OtherArea', 'ResArea', 'RetailArea',\n",
    "       'StrgeArea', 'UnitsRes', 'UnitsTotal', 'YearAlter1', 'YearBuilt','311', 'hmc_v', 'hmc_c']]"
   ]
  },
  {
   "cell_type": "code",
   "execution_count": 37,
   "metadata": {},
   "outputs": [],
   "source": [
    "target = df['has_lit']"
   ]
  },
  {
   "cell_type": "code",
   "execution_count": 60,
   "metadata": {},
   "outputs": [
    {
     "data": {
      "text/plain": [
       "0    743516\n",
       "1     14654\n",
       "Name: has_lit, dtype: int64"
      ]
     },
     "execution_count": 60,
     "metadata": {},
     "output_type": "execute_result"
    }
   ],
   "source": [
    "target.value_counts()"
   ]
  },
  {
   "cell_type": "code",
   "execution_count": 38,
   "metadata": {},
   "outputs": [],
   "source": [
    "X_train, X_test, y_train, y_test = train_test_split(features, target, test_size=.33, random_state=10)\n",
    "X_train, X_val, y_train, y_val = train_test_split(X_train, y_train, test_size=.33, random_state=10)"
   ]
  },
  {
   "cell_type": "code",
   "execution_count": 39,
   "metadata": {},
   "outputs": [
    {
     "data": {
      "text/plain": [
       "0.9785597386150948"
      ]
     },
     "execution_count": 39,
     "metadata": {},
     "output_type": "execute_result"
    }
   ],
   "source": [
    "lr = LogisticRegression()\n",
    "lr.fit(X_train,y_train)\n",
    "lr.score(X_train,y_train)"
   ]
  },
  {
   "cell_type": "code",
   "execution_count": 40,
   "metadata": {},
   "outputs": [
    {
     "data": {
      "text/plain": [
       "0.0019149227191902613"
      ]
     },
     "execution_count": 40,
     "metadata": {},
     "output_type": "execute_result"
    }
   ],
   "source": [
    "f1_score(lr.predict(X_train),y_train)"
   ]
  },
  {
   "cell_type": "code",
   "execution_count": 58,
   "metadata": {},
   "outputs": [
    {
     "data": {
      "text/plain": [
       "0.9791686551493748"
      ]
     },
     "execution_count": 58,
     "metadata": {},
     "output_type": "execute_result"
    }
   ],
   "source": [
    "lr.score(X_val,y_val)"
   ]
  },
  {
   "cell_type": "code",
   "execution_count": 61,
   "metadata": {},
   "outputs": [
    {
     "data": {
      "text/plain": [
       "0.0"
      ]
     },
     "execution_count": 61,
     "metadata": {},
     "output_type": "execute_result"
    }
   ],
   "source": [
    "f1_score(lr.predict(X_val),y_val)"
   ]
  },
  {
   "cell_type": "code",
   "execution_count": 44,
   "metadata": {},
   "outputs": [
    {
     "data": {
      "text/plain": [
       "['AssessTot',\n",
       " 'BldgArea',\n",
       " 'BoroCode',\n",
       " 'BsmtCode',\n",
       " 'ComArea',\n",
       " 'FactryArea',\n",
       " 'GarageArea',\n",
       " 'LandUse',\n",
       " 'LotArea',\n",
       " 'LotType',\n",
       " 'NumFloors',\n",
       " 'OfficeArea',\n",
       " 'OtherArea',\n",
       " 'ResArea',\n",
       " 'RetailArea',\n",
       " 'StrgeArea',\n",
       " 'UnitsRes',\n",
       " 'UnitsTotal',\n",
       " 'YearAlter1',\n",
       " 'YearBuilt',\n",
       " '311',\n",
       " 'hmc_v',\n",
       " 'hmc_c']"
      ]
     },
     "execution_count": 44,
     "metadata": {},
     "output_type": "execute_result"
    }
   ],
   "source": [
    "featureslist = list(features.columns)\n",
    "featureslist"
   ]
  },
  {
   "cell_type": "code",
   "execution_count": 54,
   "metadata": {},
   "outputs": [
    {
     "data": {
      "text/plain": [
       "[('AssessTot', -1.1123797016661836e-07),\n",
       " ('BldgArea', 3.6369430157523e-05),\n",
       " ('BoroCode', -0.00016402578708219766),\n",
       " ('BsmtCode', -0.0001738311052684397),\n",
       " ('ComArea', -0.00012668683247542853),\n",
       " ('FactryArea', -6.257860412230014e-05),\n",
       " ('GarageArea', 8.045688379815782e-05),\n",
       " ('LandUse', -0.00037732417443734067),\n",
       " ('LotArea', -0.00030249231066196937),\n",
       " ('LotType', -0.0002032998130076594),\n",
       " ('NumFloors', 1.5111329637840165e-06),\n",
       " ('OfficeArea', 0.0001017911726935944),\n",
       " ('OtherArea', 7.0055288523888e-05),\n",
       " ('ResArea', -1.5909567247887724e-06),\n",
       " ('RetailArea', 5.262095021841774e-05),\n",
       " ('StrgeArea', 0.00011913819953435632),\n",
       " ('UnitsRes', 1.636625500775341e-05),\n",
       " ('UnitsTotal', 1.6923085522382965e-05),\n",
       " ('YearAlter1', 0.0003531274981659509),\n",
       " ('YearBuilt', -0.001622609287628588),\n",
       " ('311', 0.0008119550303034875),\n",
       " ('hmc_v', 0.0006757781977676991),\n",
       " ('hmc_c', 0.0)]"
      ]
     },
     "execution_count": 54,
     "metadata": {},
     "output_type": "execute_result"
    }
   ],
   "source": [
    "coefs = list()\n",
    "for each in lr.coef_.tolist():\n",
    "    for i in each:\n",
    "        coefs.append(i)\n",
    "list(zip(featureslist,coefs))"
   ]
  },
  {
   "cell_type": "markdown",
   "metadata": {},
   "source": [
    "In this model, the number of 311 complaints, housing maintenance code violations, and year a building was renovated are the most important factors. This would make sense as if there are more complaints, the tenants are likely unhappy there. With regards to the renovation, it could be that this renovation caused problems for the tenants, leading to a lawsuit. The R2 score is very high, but because we are dealing with a fairly rare class (only about 14,000 buildings out of 750,000 have been involved in lawsuits), it isn't reliable. When testing with the F1 score, it is much more realistic and is extremely low."
   ]
  },
  {
   "cell_type": "code",
   "execution_count": 55,
   "metadata": {},
   "outputs": [
    {
     "data": {
      "text/plain": [
       "0.7381449781248807"
      ]
     },
     "execution_count": 55,
     "metadata": {},
     "output_type": "execute_result"
    }
   ],
   "source": [
    "lr_b = LogisticRegression(class_weight='balanced', solver='liblinear')\n",
    "lr_b.fit(X_train,y_train)\n",
    "lr_b.score(X_train,y_train)"
   ]
  },
  {
   "cell_type": "code",
   "execution_count": 56,
   "metadata": {},
   "outputs": [
    {
     "data": {
      "text/plain": [
       "0.08144544536290738"
      ]
     },
     "execution_count": 56,
     "metadata": {},
     "output_type": "execute_result"
    }
   ],
   "source": [
    "f1_score(lr_b.predict(X_train),y_train)"
   ]
  },
  {
   "cell_type": "code",
   "execution_count": 62,
   "metadata": {},
   "outputs": [
    {
     "data": {
      "text/plain": [
       "0.7390712990359836"
      ]
     },
     "execution_count": 62,
     "metadata": {},
     "output_type": "execute_result"
    }
   ],
   "source": [
    "lr_b.score(X_val,y_val)"
   ]
  },
  {
   "cell_type": "code",
   "execution_count": 64,
   "metadata": {},
   "outputs": [
    {
     "data": {
      "text/plain": [
       "0.07904156314481829"
      ]
     },
     "execution_count": 64,
     "metadata": {},
     "output_type": "execute_result"
    }
   ],
   "source": [
    "f1_score(lr_b.predict(X_val),y_val)"
   ]
  },
  {
   "cell_type": "code",
   "execution_count": 57,
   "metadata": {},
   "outputs": [
    {
     "data": {
      "text/plain": [
       "[('AssessTot', -1.1123797016661836e-07),\n",
       " ('BldgArea', 3.6369430157523e-05),\n",
       " ('BoroCode', -0.00016402578708219766),\n",
       " ('BsmtCode', -0.0001738311052684397),\n",
       " ('ComArea', -0.00012668683247542853),\n",
       " ('FactryArea', -6.257860412230014e-05),\n",
       " ('GarageArea', 8.045688379815782e-05),\n",
       " ('LandUse', -0.00037732417443734067),\n",
       " ('LotArea', -0.00030249231066196937),\n",
       " ('LotType', -0.0002032998130076594),\n",
       " ('NumFloors', 1.5111329637840165e-06),\n",
       " ('OfficeArea', 0.0001017911726935944),\n",
       " ('OtherArea', 7.0055288523888e-05),\n",
       " ('ResArea', -1.5909567247887724e-06),\n",
       " ('RetailArea', 5.262095021841774e-05),\n",
       " ('StrgeArea', 0.00011913819953435632),\n",
       " ('UnitsRes', 1.636625500775341e-05),\n",
       " ('UnitsTotal', 1.6923085522382965e-05),\n",
       " ('YearAlter1', 0.0003531274981659509),\n",
       " ('YearBuilt', -0.001622609287628588),\n",
       " ('311', 0.0008119550303034875),\n",
       " ('hmc_v', 0.0006757781977676991),\n",
       " ('hmc_c', 0.0)]"
      ]
     },
     "execution_count": 57,
     "metadata": {},
     "output_type": "execute_result"
    }
   ],
   "source": [
    "coefs2 = list()\n",
    "for each in lr_b.coef_.tolist():\n",
    "    for i in each:\n",
    "        coefs2.append(i)\n",
    "list(zip(featureslist,coefs))"
   ]
  },
  {
   "cell_type": "markdown",
   "metadata": {},
   "source": [
    "With the model taking into account the class imbalance, the R2 is lower but the harmonic mean has risen significantly (0.08 from 0.0 on validation data). However, the same coefficients are important. "
   ]
  },
  {
   "cell_type": "code",
   "execution_count": 65,
   "metadata": {},
   "outputs": [
    {
     "name": "stderr",
     "output_type": "stream",
     "text": [
      "/home/ubuntu/anaconda3/lib/python3.7/site-packages/sklearn/ensemble/weight_boosting.py:29: DeprecationWarning: numpy.core.umath_tests is an internal NumPy module and should not be imported. It will be removed in a future NumPy release.\n",
      "  from numpy.core.umath_tests import inner1d\n"
     ]
    },
    {
     "data": {
      "text/plain": [
       "0.9965211361546213"
      ]
     },
     "execution_count": 65,
     "metadata": {},
     "output_type": "execute_result"
    }
   ],
   "source": [
    "from sklearn.ensemble import RandomForestClassifier\n",
    "\n",
    "rf = RandomForestClassifier()\n",
    "rf.fit(X_train,y_train)\n",
    "rf.score(X_train,y_train)"
   ]
  },
  {
   "cell_type": "code",
   "execution_count": 66,
   "metadata": {},
   "outputs": [
    {
     "data": {
      "text/plain": [
       "0.9027595269382391"
      ]
     },
     "execution_count": 66,
     "metadata": {},
     "output_type": "execute_result"
    }
   ],
   "source": [
    "f1_score(rf.predict(X_train),y_train)"
   ]
  },
  {
   "cell_type": "code",
   "execution_count": 71,
   "metadata": {},
   "outputs": [
    {
     "data": {
      "text/plain": [
       "0.9812267347523146"
      ]
     },
     "execution_count": 71,
     "metadata": {},
     "output_type": "execute_result"
    }
   ],
   "source": [
    "rf.score(X_val,y_val)"
   ]
  },
  {
   "cell_type": "code",
   "execution_count": 72,
   "metadata": {},
   "outputs": [
    {
     "data": {
      "text/plain": [
       "0.16768050780216873"
      ]
     },
     "execution_count": 72,
     "metadata": {},
     "output_type": "execute_result"
    }
   ],
   "source": [
    "f1_score(rf.predict(X_val),y_val)"
   ]
  },
  {
   "cell_type": "code",
   "execution_count": 75,
   "metadata": {},
   "outputs": [
    {
     "data": {
      "text/plain": [
       "<matplotlib.axes._subplots.AxesSubplot at 0x7fead5253588>"
      ]
     },
     "execution_count": 75,
     "metadata": {},
     "output_type": "execute_result"
    },
    {
     "data": {
      "image/png": "[encoded data removed]",
      "text/plain": [
       "<Figure size 432x288 with 1 Axes>"
      ]
     },
     "metadata": {},
     "output_type": "display_data"
    }
   ],
   "source": [
    "feat_imps = list(zip(features,rf.feature_importances_))\n",
    "feat_imps = sorted(feat_imps, key = lambda x: x[1], reverse=False)\n",
    "feat_imps = pd.DataFrame(feat_imps, columns=['feature','importance'])\n",
    "\n",
    "feat_imps.plot(x='feature',y='importance',kind='barh')\n"
   ]
  },
  {
   "cell_type": "markdown",
   "metadata": {},
   "source": [
    "The random forest classifier performs twice as well as logistic regression, with the 3 most important features being housing maintenance code violations, assessed value of the lot, and 311 complaints. It's hard to figure out what the effect of assessed value of the lot is. It could be that lower-value lots have worse landlords, or it could be that higher-value lots have tenants who have more resources and access to legal aid and are more litigious."
   ]
  },
  {
   "cell_type": "code",
   "execution_count": 69,
   "metadata": {},
   "outputs": [
    {
     "data": {
      "text/plain": [
       "0.9965064450066257"
      ]
     },
     "execution_count": 69,
     "metadata": {},
     "output_type": "execute_result"
    }
   ],
   "source": [
    "rf_b = RandomForestClassifier(class_weight='balanced')\n",
    "rf_b.fit(X_train,y_train)\n",
    "rf_b.score(X_train,y_train)"
   ]
  },
  {
   "cell_type": "code",
   "execution_count": 70,
   "metadata": {},
   "outputs": [
    {
     "data": {
      "text/plain": [
       "0.902787997710735"
      ]
     },
     "execution_count": 70,
     "metadata": {},
     "output_type": "execute_result"
    }
   ],
   "source": [
    "f1_score(rf_b.predict(X_train),y_train)"
   ]
  },
  {
   "cell_type": "code",
   "execution_count": 73,
   "metadata": {},
   "outputs": [
    {
     "data": {
      "text/plain": [
       "0.9811670802710699"
      ]
     },
     "execution_count": 73,
     "metadata": {},
     "output_type": "execute_result"
    }
   ],
   "source": [
    "rf_b.score(X_val,y_val)"
   ]
  },
  {
   "cell_type": "code",
   "execution_count": 74,
   "metadata": {},
   "outputs": [
    {
     "data": {
      "text/plain": [
       "0.14095238095238094"
      ]
     },
     "execution_count": 74,
     "metadata": {},
     "output_type": "execute_result"
    }
   ],
   "source": [
    "f1_score(rf_b.predict(X_val),y_val)"
   ]
  },
  {
   "cell_type": "code",
   "execution_count": 76,
   "metadata": {},
   "outputs": [
    {
     "data": {
      "text/plain": [
       "<matplotlib.axes._subplots.AxesSubplot at 0x7fead5188780>"
      ]
     },
     "execution_count": 76,
     "metadata": {},
     "output_type": "execute_result"
    },
    {
     "data": {
      "image/png": "[encoded data removed]",
      "text/plain": [
       "<Figure size 432x288 with 1 Axes>"
      ]
     },
     "metadata": {},
     "output_type": "display_data"
    }
   ],
   "source": [
    "feat_imps = list(zip(features,rf_b.feature_importances_))\n",
    "feat_imps = sorted(feat_imps, key = lambda x: x[1], reverse=False)\n",
    "feat_imps = pd.DataFrame(feat_imps, columns=['feature','importance'])\n",
    "\n",
    "feat_imps.plot(x='feature',y='importance',kind='barh')"
   ]
  },
  {
   "cell_type": "markdown",
   "metadata": {},
   "source": [
    "The balanced class random forest performs slightly worse, but it isn't a significant decrease in performance. With this classifier, the important features are housing maintenance code violations, 311 complaints, residential area and assessed value of the lot. "
   ]
  },
  {
   "cell_type": "code",
   "execution_count": 77,
   "metadata": {},
   "outputs": [
    {
     "data": {
      "text/plain": [
       "0.9816301885461933"
      ]
     },
     "execution_count": 77,
     "metadata": {},
     "output_type": "execute_result"
    }
   ],
   "source": [
    "from sklearn.ensemble import GradientBoostingClassifier\n",
    "\n",
    "gbm = GradientBoostingClassifier()\n",
    "gbm.fit(X_train,y_train)\n",
    "gbm.score(X_train,y_train)"
   ]
  },
  {
   "cell_type": "code",
   "execution_count": 78,
   "metadata": {},
   "outputs": [
    {
     "data": {
      "text/plain": [
       "0.19805028219599793"
      ]
     },
     "execution_count": 78,
     "metadata": {},
     "output_type": "execute_result"
    }
   ],
   "source": [
    "f1_score(gbm.predict(X_train),y_train)"
   ]
  },
  {
   "cell_type": "code",
   "execution_count": 79,
   "metadata": {},
   "outputs": [
    {
     "data": {
      "text/plain": [
       "0.9818769685978811"
      ]
     },
     "execution_count": 79,
     "metadata": {},
     "output_type": "execute_result"
    }
   ],
   "source": [
    "gbm.score(X_val,y_val)"
   ]
  },
  {
   "cell_type": "code",
   "execution_count": 80,
   "metadata": {},
   "outputs": [
    {
     "data": {
      "text/plain": [
       "0.1924508240297714"
      ]
     },
     "execution_count": 80,
     "metadata": {},
     "output_type": "execute_result"
    }
   ],
   "source": [
    "f1_score(gbm.predict(X_val),y_val)"
   ]
  },
  {
   "cell_type": "code",
   "execution_count": 81,
   "metadata": {},
   "outputs": [
    {
     "data": {
      "text/plain": [
       "<matplotlib.axes._subplots.AxesSubplot at 0x7fead50d5240>"
      ]
     },
     "execution_count": 81,
     "metadata": {},
     "output_type": "execute_result"
    },
    {
     "data": {
      "image/png": "[encoded data removed]",
      "text/plain": [
       "<Figure size 432x288 with 1 Axes>"
      ]
     },
     "metadata": {},
     "output_type": "display_data"
    }
   ],
   "source": [
    "feat_imps = list(zip(features,gbm.feature_importances_))\n",
    "feat_imps = sorted(feat_imps, key = lambda x: x[1], reverse=False)\n",
    "feat_imps = pd.DataFrame(feat_imps, columns=['feature','importance'])\n",
    "\n",
    "feat_imps.plot(x='feature',y='importance',kind='barh')"
   ]
  },
  {
   "cell_type": "markdown",
   "metadata": {},
   "source": [
    "Gradient Boosting performs a bit better than the random forest, with the important features being housing maintenance code violations, 311 complaints, and assessed total value of the house."
   ]
  },
  {
   "cell_type": "markdown",
   "metadata": {},
   "source": [
    "The tree models aren't amazing at predicting, but handle the class imbalance better than logistic regression. More data cleaning is necessary to incorporate more features, like information from the Department of Buildings (which uses a different identification system for different buildings). Feature engineering and testing of different models will also be necessary once the data is wrangled."
   ]
  },
  {
   "cell_type": "code",
   "execution_count": null,
   "metadata": {},
   "outputs": [],
   "source": []
  }
 ],
 "metadata": {
  "kernelspec": {
   "display_name": "Python 3",
   "language": "python",
   "name": "python3"
  },
  "language_info": {
   "codemirror_mode": {
    "name": "ipython",
    "version": 3
   },
   "file_extension": ".py",
   "mimetype": "text/x-python",
   "name": "python",
   "nbconvert_exporter": "python",
   "pygments_lexer": "ipython3",
   "version": "3.7.0"
  }
 },
 "nbformat": 4,
 "nbformat_minor": 2
}
